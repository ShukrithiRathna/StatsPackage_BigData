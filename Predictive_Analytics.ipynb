{
 "nbformat": 4,
 "nbformat_minor": 2,
 "metadata": {
  "language_info": {
   "name": "python",
   "codemirror_mode": {
    "name": "ipython",
    "version": 3
   },
   "version": "3.7.5-final"
  },
  "orig_nbformat": 2,
  "file_extension": ".py",
  "mimetype": "text/x-python",
  "name": "python",
  "npconvert_exporter": "python",
  "pygments_lexer": "ipython3",
  "version": 3,
  "kernelspec": {
   "name": "python37464bitbasecondad012a44a650f45058c40ce762f760b38",
   "display_name": "Python 3.7.4 64-bit ('base': conda)"
  }
 },
 "cells": [
  {
   "cell_type": "markdown",
   "metadata": {},
   "source": [
    "## Association Rule Mining\n",
    "\n",
    "The cleaned dataset (Modified_plants.csv) was mined using various techniques to obtaining interesting rules and patters  by implementing  the following algorithms:\n",
    "  * FIM:\n",
    "    * Apriori\n",
    "    * FP Growth\n",
    "  * CFI\n",
    "    * A-Close (modified version of apriori)\n",
    "  * MFI\n",
    "    * FP max\n",
    "\n"
   ]
  },
  {
   "cell_type": "markdown",
   "metadata": {},
   "source": [
    "### Importing Necessary Libraries\n"
   ]
  },
  {
   "cell_type": "code",
   "execution_count": 2,
   "metadata": {},
   "outputs": [],
   "source": [
    "import pandas as pd \n",
    "import matplotlib.pyplot as plt\n",
    "from apyori import apriori\n",
    "from mlxtend.frequent_patterns import apriori as a_close\n",
    "from mlxtend.frequent_patterns import fpgrowth\n",
    "from mlxtend.frequent_patterns import fpmax\n",
    "from mlxtend.frequent_patterns import association_rules\n",
    "from mlxtend.preprocessing import TransactionEncoder\n",
    "from sklearn.preprocessing import OrdinalEncoder, MinMaxScaler\n",
    "from sklearn.model_selection import train_test_split\n",
    "from sklearn.neighbors import KNeighborsClassifier\n",
    "from sklearn.metrics import classification_report, confusion_matrix\n",
    "from sklearn.svm import SVC\n",
    "from sklearn.naive_bayes import GaussianNB\n",
    " "
   ]
  },
  {
   "cell_type": "markdown",
   "metadata": {},
   "source": [
    "### Apriori Algorithm\n",
    "* To implement thhe alogirthm,  the cleaned dataset was converted into a  'list of lists' format. \n",
    "* The  'Symbol' column is split into it's consitutent letters to get meanignful insights.\n",
    "* The resultant rules obtained are written to a file in the csv format. The top five rows are displayed below. \n",
    "\n",
    "### Evaluation Measures:\n",
    "* The measures of Confidence and Lift were used to evaluate the rules mined. \n",
    "* Confidence\n",
    "    * Conf(X=>Y) = Supp(X\\cupY) \\div Supp(X) –\n",
    "    * It measures how often each item in Y appears in transactions that contains items in X also.\n",
    "* Lift\n",
    "    * LiftX=>Y) = Conf(X=>Y) \\div Supp(Y)\n",
    "    * Lift value near 1 indicates X and Y almost often appear together as expected.\n",
    "    * Greater than 1 means they appear together more than expected.\n",
    "    * Less than 1 means they appear less than expected.\n",
    "    * Greater lift values indicate stronger association."
   ]
  },
  {
   "cell_type": "code",
   "execution_count": 13,
   "metadata": {
    "tags": [
     "outputPrepend"
    ]
   },
   "outputs": [
    {
     "output_type": "stream",
     "name": "stdout",
     "text": "Symbol Syn_Symbol       Family    Sci_Name_1  Sci_Name_2\n0  ANDRO5      JUEC2  Acanthaceae  Andrographis       Wall.\n1    ANEC      JUEC2  Acanthaceae  Andrographis   echioides\n2    ANEC      JUEC2  Acanthaceae      Justicia   echioides\n3   DIBR2      JUEC2  Acanthaceae    Dicliptera   brachiata\n4   DIBR2      DIBR6  Acanthaceae     Diapedium  brachiatum\n                       Rule   Support  Confidence      Lift\n0     Aster -- > Asteraceae  0.013829    1.000000  8.112179\n1              Aster -- > S  0.011458    0.828571  3.502975\n2              Aster -- > Y  0.010404    0.752381  8.285466\n3  Solidago -- > Asteraceae  0.010734    1.000000  8.112179\n4              Carex -- > C  0.027328    1.000000  3.295573\n"
    }
   ],
   "source": [
    "\n",
    "data = pd.read_csv('Datasets/Modified_Plants.csv')\n",
    "print(data.head(5))\n",
    "df = []\n",
    "\n",
    "for _,row in data.iterrows():\n",
    "    value = []\n",
    "    for item in row['Symbol']:\n",
    "        value.append(item)\n",
    "    for item in row[1:]:\n",
    "        value.append(item)\n",
    "    df.append(value) \n",
    "\n",
    "rules = apriori(df, min_support=0.01, min_confidence=0.4, min_lift=3, min_length=2)\n",
    "rules = list(rules)\n",
    "apriori_results = pd.DataFrame(columns=['Rule','Support','Confidence','Lift'])\n",
    "# print(apriori_results.head(5))\n",
    "for rule in rules:\n",
    "    supp = rule[1]\n",
    "    conf = rule[2][0][-2]\n",
    "    lift = rule[2][0][-1]\n",
    "\n",
    "    Rule = ''\n",
    "    Rule += next(iter(rule[2][0][0]))\n",
    "    for item in rule[2][0][1:-3]:\n",
    "        Rule += ',' + next(iter(item))\n",
    "    Rule += ' -- > '\n",
    "    Rule += next(iter(rule[2][0][-3]))\n",
    "    \n",
    "    row = [Rule,supp,conf,lift]\n",
    "\n",
    "    apriori_results = apriori_results.append(pd.Series(row,index=apriori_results.columns),ignore_index=True)\n",
    "print(apriori_results.head(5))\n",
    "apriori_results.to_csv('Rules/Apriori_rules.csv')\n"
   ]
  },
  {
   "cell_type": "markdown",
   "metadata": {},
   "source": []
  },
  {
   "cell_type": "markdown",
   "metadata": {},
   "source": [
    "### FP Growth Algorithm\n",
    "* The given dataset contains a large number of uniwue values in the 'Family' column and as such is not suitable for encoding. \n",
    "* Therefore the dataset is grouped by 'Family' and only those families with number of rows >=500 are chosen for encoding.\n",
    "* After grouping by family, the data is grouped by symbol, and only those with more than 25 rows are taken. \n",
    "* The resultant datset contains 345 rows and 6 columns. - It is written into a csv file - 'Pruned_Data.csv'\n",
    "* All further analysis is done on this dataset.  \n",
    "* The data is enoded using the transaction encoder which is a part of the mlxtend library. \n",
    "* The resultant rules obtained are written to a file in the csv format. The top five rows are displayed below.\n",
    "\n",
    "Evaluation Measures:\n",
    "The following measures were used to evaluate the rules mined:\n",
    "* Confidence\n",
    "    * Conf(X=>Y) = Supp(X\\cupY) \\div Supp(X) \n",
    "    * It measures how often each item in Y appears in transactions that contains items in X also.\n",
    "\n",
    "* Lift\n",
    "    * LiftX=>Y) = Conf(X=>Y) \\div Supp(Y)\n",
    "    * Lift value near 1 indicates X and Y almost often appear together as expected.\n",
    "    * Greater than 1 means they appear together more than expected.\n",
    "    * Less than 1 means they appear less than expected.\n",
    "    * Greater lift values indicate stronger association.\n",
    "\n",
    "* Conviction \n",
    "    * It determines which part of the association rule has the upper hand; whether the L.H.S drives the R.H.S or vice versa.\n",
    "    * Conviction(A →B) = (1- support(B)) / (1- Confidence(A →B)).\n",
    "    * A high conviction value means that the consequent is highly depending on the antecedent. \n",
    "    * In the case of a perfect confidence score, the denominator becomes 0 (due to 1 - 1) for which the conviction score is defined as inf . \n",
    "    * Similar to lift, if items are independent, the conviction is 1.\n",
    "\n",
    "* A rule can be divided into two parts - antecedent and consequent. \n",
    "    * The antecedent refers to the condition, clause or item, and the consequent refers to what it implies or its consequence. \n",
    "    * The suppoer for the antecedent as well as the consequent is also calculated.\n",
    "\n",
    "* Leverage:\n",
    "    * levarage(A→C)=support(A→C)−support(A)×support(C),range: [−1,1]\n",
    "    * Leverage computes the difference between the observed frequency of A and C appearing together and the frequency that would be expected if A and C were independent. \n",
    "    * A leverage value of 0 indicates independence.\n",
    "\n",
    "* Conviction:\n",
    "    * conviction(A→C)=1−support(C)1−confidence(A→C),range: [0,∞]\n",
    "    * "
   ]
  },
  {
   "cell_type": "code",
   "execution_count": 5,
   "metadata": {},
   "outputs": [
    {
     "output_type": "stream",
     "name": "stdout",
     "text": "Rule  Antecedent Support  Consequent Support   Support  \\\n0    {l,S} --- > {o}            0.005797            0.005797  0.005797   \n1    {o} --- > {l,S}            0.005797            0.005797  0.005797   \n2    {y,S} --- > {o}            0.005797            0.005797  0.005797   \n3    {o} --- > {y,S}            0.005797            0.005797  0.005797   \n4  {l,y,S} --- > {o}            0.005797            0.005797  0.005797   \n\n   Confidence   Lift  Conviction  \n0         1.0  172.5         inf  \n1         1.0  172.5         inf  \n2         1.0  172.5         inf  \n3         1.0  172.5         inf  \n4         1.0  172.5         inf  \n"
    }
   ],
   "source": [
    "\n",
    "\n",
    "\n",
    "def get_rule(x,y):\n",
    "    rule = '{'\n",
    "    rule += list(x)[0]\n",
    "    for item in list(x)[1:]:\n",
    "        rule += ',' + item\n",
    "    rule += '} --- > {' + list(y)[0]\n",
    "    for item in list(y)[1:]:\n",
    "        rule += ',' + item\n",
    "    rule += '}'\n",
    "    return rule\n",
    "\n",
    "\n",
    "# data = pd.read_csv('Modified_Plants.csv')\n",
    "\n",
    "data = data[data.groupby('Family')['Family'].transform('size') > 100]\n",
    "data = data[data.groupby('Symbol')['Symbol'].transform('size') > 25]\n",
    "data.reset_index(drop=True,inplace=True)\n",
    "\n",
    "# print(data.shape)\n",
    "# print(data.head(5))\n",
    "# data.to_csv('Pruned_Data.csv',index=False)\n",
    "#print(data.Family.value_counts())\n",
    "\n",
    "te = TransactionEncoder()\n",
    "enc_basket = te.fit(data).transform(data)\n",
    "\n",
    "# print(enc_basket)\n",
    "\n",
    "basket=pd.DataFrame(enc_basket, columns=te.columns_)\n",
    "basket.to_csv('Encoded_data.csv', index=False)\n",
    "\n",
    "fp_items=fpgrowth(basket, min_support=0.005, use_colnames=True)\n",
    "\n",
    "fp_rules = association_rules(fp_items, metric =\"lift\", min_threshold = 1) \n",
    "fp_rules = fp_rules.sort_values(['confidence', 'lift'], ascending =[False, False]) \n",
    "fp_rules.drop([\"leverage\"], axis = 1, inplace = True)\n",
    "\n",
    "fp_rules.reset_index(drop=True,inplace=True)\n",
    "pd.set_option('display.max_columns',None)\n",
    "\n",
    "fp_rules['Rule'] = fp_rules.apply(lambda row : get_rule(row['antecedents'],row['consequents']),axis=1)\n",
    "fp_rules = fp_rules[['Rule','antecedent support','consequent support','support','confidence','lift','conviction']]\n",
    "fp_rules.columns = ['Rule','Antecedent Support','Consequent Support','Support','Confidence','Lift','Conviction']\n",
    "\n",
    "print(fp_rules.head(5))\n",
    "fp_rules.to_csv('Rules/FP_Rules.csv',index=False)\n"
   ]
  },
  {
   "cell_type": "markdown",
   "metadata": {},
   "source": [
    "#### Maximal Frequent Itemset\n",
    "* An itemset is maximal frequent if none of its supersets are frequent.\n",
    "\n",
    "#### Closed Frequent Itemset\n",
    "* An itemset is closed if none of its immediate supersets have same support count same as Itemset.\n",
    "\n",
    "\n",
    "### A-Close Algorithm (CFI) and FP Max (MFI)\n",
    " * The encoded dataset obtained in the previous stage was used to implement the the a-close and the FP Max algorithms.\n",
    " * The a-close is a modified version of apriori, to mine Closed frequent itemsets. \n",
    " * The FP Max algorithm is a  modified version of FP growth algorithm to mine Maximal Frequent itemsets.\n",
    " * Similar to apriori and FP growth the results obtained were evaluated using various measures such as confidence, lift, conviction and leverage. "
   ]
  },
  {
   "cell_type": "code",
   "execution_count": 6,
   "metadata": {},
   "outputs": [
    {
     "output_type": "stream",
     "name": "stdout",
     "text": "antecedents consequents  antecedent support  consequent support   support  \\\n0         (m)         (S)            0.014493            0.011594  0.011594   \n1         (S)         (m)            0.011594            0.014493  0.011594   \n\n   confidence  lift  leverage  conviction  \n0         0.8  69.0  0.011426    4.942029  \n1         1.0  69.0  0.011426         inf  \n"
    }
   ],
   "source": [
    "# A-Close\n",
    "basket = pd.read_csv('Encoded_data.csv')\n",
    "a_close_itemsets= a_close(basket, min_support=0.01, use_colnames=True)\n",
    "a_rules = association_rules(a_close_itemsets, metric =\"lift\", min_threshold = 1) \n",
    "print(a_rules.head(5))"
   ]
  },
  {
   "cell_type": "code",
   "execution_count": 7,
   "metadata": {},
   "outputs": [
    {
     "output_type": "stream",
     "name": "stdout",
     "text": "support                     itemsets\n0  0.002899  (i, 1, m, e, c, N, S, _, a)\n1  0.002899  (i, m, e, c, N, 2, S, _, a)\n2  0.002899           (i, m, y, l, F, a)\n3  0.002899     (m, o, y, n, S, _, l, b)\n"
    }
   ],
   "source": [
    "# fpmax\n",
    "\n",
    "fp_max_itemsets = fpmax(basket, min_support=0.0005, use_colnames=True,max_len = 10)\n",
    "print(fp_max_itemsets)\n",
    ""
   ]
  },
  {
   "cell_type": "markdown",
   "metadata": {},
   "source": [
    "## Predictive Analytics\n",
    "* This dataset is not suitable for predictive analysis from a domain or subject point of view.\n",
    "* Thus, any predicitve analytics techniques applied will not yield meaninfgul results from the domain/subject point of view.\n",
    "* Predictive techniques have been applied on this dataset purely to demonstrate the apllication and usage of such techniques.  \n",
    "\n",
    "The pruned dataset was encoded using an ordinal encoder from the scikit library. \n",
    "The 'Family' columns was used as  the column to be predicted,  based on the values in the other columns. \n",
    "The following Classification (Prediction of \"Family\") techniques were then implemented on the encoded data:\n",
    "* K-Nearest Neighbours\n",
    "* Support Vector Machines\n",
    "* Naive-Baye's\n",
    "\n",
    "* The data was split into two sets - train and test data for Classification. "
   ]
  },
  {
   "cell_type": "code",
   "execution_count": 9,
   "metadata": {},
   "outputs": [
    {
     "output_type": "stream",
     "name": "stdout",
     "text": "Symbol 10\nSyn_Symbol 344\nFamily 4\nSci_Name_1 18\nSci_Name_2 184\n"
    }
   ],
   "source": [
    "# Encoding the data\n",
    "for item in data.columns:\n",
    "    print(item,data[item].nunique())\n",
    "\n",
    "enc = OrdinalEncoder()\n",
    "for item in data.columns:\n",
    "    data[item] = enc.fit_transform(data[item].values.reshape(-1, 1))\n",
    "\n",
    "# Splititng into test and train\n",
    "\n",
    "feature_names = ['Symbol', 'Syn_Symbol', 'Sci_Name_1', 'Sci_Name_2']\n",
    "X = data[feature_names]\n",
    "y = data['Family'] #Aim is to predict.classify the family\n",
    "\n",
    "#scaling the data\n",
    "X_train, X_test, y_train, y_test = train_test_split(X, y, random_state=0)\n",
    "scaler = MinMaxScaler()\n",
    "X_train = scaler.fit_transform(X_train)\n",
    "X_test = scaler.transform(X_test)\n",
    "\n",
    ""
   ]
  },
  {
   "cell_type": "markdown",
   "metadata": {},
   "source": [
    "### Classification\n",
    "* Confusion Matrix was constructed in order to evaluate the performance of each technique. \n",
    "* KNN was foind to be the most accurate for the given input. \n",
    "* A graph of 'k' vs accuracy was  plotted in order to determine the best choice of K for the given data. "
   ]
  },
  {
   "cell_type": "code",
   "execution_count": 10,
   "metadata": {},
   "outputs": [
    {
     "output_type": "stream",
     "name": "stdout",
     "text": "Accuracy of K-NN classifier on training set: 0.98\nAccuracy of K-NN classifier on test set: 0.94\n[[ 8  0  0  0]\n [ 1  1  1  2]\n [ 0  0 32  1]\n [ 0  0  0 41]]\n              precision    recall  f1-score   support\n\n         0.0       0.89      1.00      0.94         8\n         1.0       1.00      0.20      0.33         5\n         2.0       0.97      0.97      0.97        33\n         3.0       0.93      1.00      0.96        41\n\n    accuracy                           0.94        87\n   macro avg       0.95      0.79      0.80        87\nweighted avg       0.95      0.94      0.93        87\n\n"
    }
   ],
   "source": [
    "#KNN\n",
    "knn = KNeighborsClassifier()\n",
    "knn.fit(X_train, y_train)\n",
    "print('Accuracy of K-NN classifier on training set: {:.2f}'.format(knn.score(X_train, y_train)))\n",
    "print('Accuracy of K-NN classifier on test set: {:.2f}'.format(knn.score(X_test, y_test)))\n",
    "\n",
    "\n",
    "pred = knn.predict(X_test)\n",
    "print(confusion_matrix(y_test, pred))\n",
    "print(classification_report(y_test, pred))"
   ]
  },
  {
   "cell_type": "code",
   "execution_count": 49,
   "metadata": {},
   "outputs": [
    {
     "output_type": "execute_result",
     "data": {
      "text/plain": "([<matplotlib.axis.XTick at 0x7fba233a15d0>,\n  <matplotlib.axis.XTick at 0x7fba205048d0>,\n  <matplotlib.axis.XTick at 0x7fba1e12f750>,\n  <matplotlib.axis.XTick at 0x7fba2339a150>,\n  <matplotlib.axis.XTick at 0x7fba2346d5d0>],\n <a list of 5 Text xticklabel objects>)"
     },
     "metadata": {},
     "execution_count": 49
    },
    {
     "output_type": "display_data",
     "data": {
      "text/plain": "<Figure size 432x288 with 1 Axes>",
      "image/svg+xml": "<?xml version=\"1.0\" encoding=\"utf-8\" standalone=\"no\"?>\n<!DOCTYPE svg PUBLIC \"-//W3C//DTD SVG 1.1//EN\"\n  \"http://www.w3.org/Graphics/SVG/1.1/DTD/svg11.dtd\">\n<!-- Created with matplotlib (https://matplotlib.org/) -->\n<svg height=\"264.129669pt\" version=\"1.1\" viewBox=\"0 0 404.86875 264.129669\" width=\"404.86875pt\" xmlns=\"http://www.w3.org/2000/svg\" xmlns:xlink=\"http://www.w3.org/1999/xlink\">\n <defs>\n  <style type=\"text/css\">\n*{stroke-linecap:butt;stroke-linejoin:round;}\n  </style>\n </defs>\n <g id=\"figure_1\">\n  <g id=\"patch_1\">\n   <path d=\"M 0 264.129669 \nL 404.86875 264.129669 \nL 404.86875 0 \nL 0 0 \nz\n\" style=\"fill:none;\"/>\n  </g>\n  <g id=\"axes_1\">\n   <g id=\"patch_2\">\n    <path d=\"M 56.50625 226.573419 \nL 391.30625 226.573419 \nL 391.30625 9.133419 \nL 56.50625 9.133419 \nz\n\" style=\"fill:#ffffff;\"/>\n   </g>\n   <g id=\"PathCollection_1\">\n    <defs>\n     <path d=\"M 0 3 \nC 0.795609 3 1.55874 2.683901 2.12132 2.12132 \nC 2.683901 1.55874 3 0.795609 3 0 \nC 3 -0.795609 2.683901 -1.55874 2.12132 -2.12132 \nC 1.55874 -2.683901 0.795609 -3 0 -3 \nC -0.795609 -3 -1.55874 -2.683901 -2.12132 -2.12132 \nC -2.683901 -1.55874 -3 -0.795609 -3 0 \nC -3 0.795609 -2.683901 1.55874 -2.12132 2.12132 \nC -1.55874 2.683901 -0.795609 3 0 3 \nz\n\" id=\"m77c702f0a4\" style=\"stroke:#1f77b4;\"/>\n    </defs>\n    <g clip-path=\"url(#p65d31f6d29)\">\n     <use style=\"fill:#1f77b4;stroke:#1f77b4;\" x=\"73.24625\" xlink:href=\"#m77c702f0a4\" y=\"34.423713\"/>\n     <use style=\"fill:#1f77b4;stroke:#1f77b4;\" x=\"89.98625\" xlink:href=\"#m77c702f0a4\" y=\"34.423713\"/>\n     <use style=\"fill:#1f77b4;stroke:#1f77b4;\" x=\"106.72625\" xlink:href=\"#m77c702f0a4\" y=\"34.423713\"/>\n     <use style=\"fill:#1f77b4;stroke:#1f77b4;\" x=\"123.46625\" xlink:href=\"#m77c702f0a4\" y=\"47.259053\"/>\n     <use style=\"fill:#1f77b4;stroke:#1f77b4;\" x=\"140.20625\" xlink:href=\"#m77c702f0a4\" y=\"47.259053\"/>\n     <use style=\"fill:#1f77b4;stroke:#1f77b4;\" x=\"156.94625\" xlink:href=\"#m77c702f0a4\" y=\"85.765071\"/>\n     <use style=\"fill:#1f77b4;stroke:#1f77b4;\" x=\"173.68625\" xlink:href=\"#m77c702f0a4\" y=\"111.43575\"/>\n     <use style=\"fill:#1f77b4;stroke:#1f77b4;\" x=\"190.42625\" xlink:href=\"#m77c702f0a4\" y=\"111.43575\"/>\n     <use style=\"fill:#1f77b4;stroke:#1f77b4;\" x=\"207.16625\" xlink:href=\"#m77c702f0a4\" y=\"124.271089\"/>\n     <use style=\"fill:#1f77b4;stroke:#1f77b4;\" x=\"223.90625\" xlink:href=\"#m77c702f0a4\" y=\"124.271089\"/>\n     <use style=\"fill:#1f77b4;stroke:#1f77b4;\" x=\"240.64625\" xlink:href=\"#m77c702f0a4\" y=\"124.271089\"/>\n     <use style=\"fill:#1f77b4;stroke:#1f77b4;\" x=\"257.38625\" xlink:href=\"#m77c702f0a4\" y=\"124.271089\"/>\n     <use style=\"fill:#1f77b4;stroke:#1f77b4;\" x=\"274.12625\" xlink:href=\"#m77c702f0a4\" y=\"137.106429\"/>\n     <use style=\"fill:#1f77b4;stroke:#1f77b4;\" x=\"290.86625\" xlink:href=\"#m77c702f0a4\" y=\"124.271089\"/>\n     <use style=\"fill:#1f77b4;stroke:#1f77b4;\" x=\"307.60625\" xlink:href=\"#m77c702f0a4\" y=\"137.106429\"/>\n     <use style=\"fill:#1f77b4;stroke:#1f77b4;\" x=\"324.34625\" xlink:href=\"#m77c702f0a4\" y=\"137.106429\"/>\n     <use style=\"fill:#1f77b4;stroke:#1f77b4;\" x=\"341.08625\" xlink:href=\"#m77c702f0a4\" y=\"162.777107\"/>\n     <use style=\"fill:#1f77b4;stroke:#1f77b4;\" x=\"357.82625\" xlink:href=\"#m77c702f0a4\" y=\"137.106429\"/>\n     <use style=\"fill:#1f77b4;stroke:#1f77b4;\" x=\"374.56625\" xlink:href=\"#m77c702f0a4\" y=\"201.283126\"/>\n    </g>\n   </g>\n   <g id=\"matplotlib.axis_1\">\n    <g id=\"xtick_1\">\n     <g id=\"line2d_1\">\n      <defs>\n       <path d=\"M 0 0 \nL 0 3.5 \n\" id=\"m084d9bb18f\" style=\"stroke:#000000;stroke-width:0.8;\"/>\n      </defs>\n      <g>\n       <use style=\"stroke:#000000;stroke-width:0.8;\" x=\"56.50625\" xlink:href=\"#m084d9bb18f\" y=\"226.573419\"/>\n      </g>\n     </g>\n     <g id=\"text_1\">\n      <!-- 0 -->\n      <defs>\n       <path d=\"M 31.78125 66.40625 \nQ 24.171875 66.40625 20.328125 58.90625 \nQ 16.5 51.421875 16.5 36.375 \nQ 16.5 21.390625 20.328125 13.890625 \nQ 24.171875 6.390625 31.78125 6.390625 \nQ 39.453125 6.390625 43.28125 13.890625 \nQ 47.125 21.390625 47.125 36.375 \nQ 47.125 51.421875 43.28125 58.90625 \nQ 39.453125 66.40625 31.78125 66.40625 \nz\nM 31.78125 74.21875 \nQ 44.046875 74.21875 50.515625 64.515625 \nQ 56.984375 54.828125 56.984375 36.375 \nQ 56.984375 17.96875 50.515625 8.265625 \nQ 44.046875 -1.421875 31.78125 -1.421875 \nQ 19.53125 -1.421875 13.0625 8.265625 \nQ 6.59375 17.96875 6.59375 36.375 \nQ 6.59375 54.828125 13.0625 64.515625 \nQ 19.53125 74.21875 31.78125 74.21875 \nz\n\" id=\"DejaVuSans-48\"/>\n      </defs>\n      <g transform=\"translate(53.325 241.171857)scale(0.1 -0.1)\">\n       <use xlink:href=\"#DejaVuSans-48\"/>\n      </g>\n     </g>\n    </g>\n    <g id=\"xtick_2\">\n     <g id=\"line2d_2\">\n      <g>\n       <use style=\"stroke:#000000;stroke-width:0.8;\" x=\"140.20625\" xlink:href=\"#m084d9bb18f\" y=\"226.573419\"/>\n      </g>\n     </g>\n     <g id=\"text_2\">\n      <!-- 5 -->\n      <defs>\n       <path d=\"M 10.796875 72.90625 \nL 49.515625 72.90625 \nL 49.515625 64.59375 \nL 19.828125 64.59375 \nL 19.828125 46.734375 \nQ 21.96875 47.46875 24.109375 47.828125 \nQ 26.265625 48.1875 28.421875 48.1875 \nQ 40.625 48.1875 47.75 41.5 \nQ 54.890625 34.8125 54.890625 23.390625 \nQ 54.890625 11.625 47.5625 5.09375 \nQ 40.234375 -1.421875 26.90625 -1.421875 \nQ 22.3125 -1.421875 17.546875 -0.640625 \nQ 12.796875 0.140625 7.71875 1.703125 \nL 7.71875 11.625 \nQ 12.109375 9.234375 16.796875 8.0625 \nQ 21.484375 6.890625 26.703125 6.890625 \nQ 35.15625 6.890625 40.078125 11.328125 \nQ 45.015625 15.765625 45.015625 23.390625 \nQ 45.015625 31 40.078125 35.4375 \nQ 35.15625 39.890625 26.703125 39.890625 \nQ 22.75 39.890625 18.8125 39.015625 \nQ 14.890625 38.140625 10.796875 36.28125 \nz\n\" id=\"DejaVuSans-53\"/>\n      </defs>\n      <g transform=\"translate(137.025 241.171857)scale(0.1 -0.1)\">\n       <use xlink:href=\"#DejaVuSans-53\"/>\n      </g>\n     </g>\n    </g>\n    <g id=\"xtick_3\">\n     <g id=\"line2d_3\">\n      <g>\n       <use style=\"stroke:#000000;stroke-width:0.8;\" x=\"223.90625\" xlink:href=\"#m084d9bb18f\" y=\"226.573419\"/>\n      </g>\n     </g>\n     <g id=\"text_3\">\n      <!-- 10 -->\n      <defs>\n       <path d=\"M 12.40625 8.296875 \nL 28.515625 8.296875 \nL 28.515625 63.921875 \nL 10.984375 60.40625 \nL 10.984375 69.390625 \nL 28.421875 72.90625 \nL 38.28125 72.90625 \nL 38.28125 8.296875 \nL 54.390625 8.296875 \nL 54.390625 0 \nL 12.40625 0 \nz\n\" id=\"DejaVuSans-49\"/>\n      </defs>\n      <g transform=\"translate(217.54375 241.171857)scale(0.1 -0.1)\">\n       <use xlink:href=\"#DejaVuSans-49\"/>\n       <use x=\"63.623047\" xlink:href=\"#DejaVuSans-48\"/>\n      </g>\n     </g>\n    </g>\n    <g id=\"xtick_4\">\n     <g id=\"line2d_4\">\n      <g>\n       <use style=\"stroke:#000000;stroke-width:0.8;\" x=\"307.60625\" xlink:href=\"#m084d9bb18f\" y=\"226.573419\"/>\n      </g>\n     </g>\n     <g id=\"text_4\">\n      <!-- 15 -->\n      <g transform=\"translate(301.24375 241.171857)scale(0.1 -0.1)\">\n       <use xlink:href=\"#DejaVuSans-49\"/>\n       <use x=\"63.623047\" xlink:href=\"#DejaVuSans-53\"/>\n      </g>\n     </g>\n    </g>\n    <g id=\"xtick_5\">\n     <g id=\"line2d_5\">\n      <g>\n       <use style=\"stroke:#000000;stroke-width:0.8;\" x=\"391.30625\" xlink:href=\"#m084d9bb18f\" y=\"226.573419\"/>\n      </g>\n     </g>\n     <g id=\"text_5\">\n      <!-- 20 -->\n      <defs>\n       <path d=\"M 19.1875 8.296875 \nL 53.609375 8.296875 \nL 53.609375 0 \nL 7.328125 0 \nL 7.328125 8.296875 \nQ 12.9375 14.109375 22.625 23.890625 \nQ 32.328125 33.6875 34.8125 36.53125 \nQ 39.546875 41.84375 41.421875 45.53125 \nQ 43.3125 49.21875 43.3125 52.78125 \nQ 43.3125 58.59375 39.234375 62.25 \nQ 35.15625 65.921875 28.609375 65.921875 \nQ 23.96875 65.921875 18.8125 64.3125 \nQ 13.671875 62.703125 7.8125 59.421875 \nL 7.8125 69.390625 \nQ 13.765625 71.78125 18.9375 73 \nQ 24.125 74.21875 28.421875 74.21875 \nQ 39.75 74.21875 46.484375 68.546875 \nQ 53.21875 62.890625 53.21875 53.421875 \nQ 53.21875 48.921875 51.53125 44.890625 \nQ 49.859375 40.875 45.40625 35.40625 \nQ 44.1875 33.984375 37.640625 27.21875 \nQ 31.109375 20.453125 19.1875 8.296875 \nz\n\" id=\"DejaVuSans-50\"/>\n      </defs>\n      <g transform=\"translate(384.94375 241.171857)scale(0.1 -0.1)\">\n       <use xlink:href=\"#DejaVuSans-50\"/>\n       <use x=\"63.623047\" xlink:href=\"#DejaVuSans-48\"/>\n      </g>\n     </g>\n    </g>\n    <g id=\"text_6\">\n     <!-- k -->\n     <defs>\n      <path d=\"M 9.078125 75.984375 \nL 18.109375 75.984375 \nL 18.109375 31.109375 \nL 44.921875 54.6875 \nL 56.390625 54.6875 \nL 27.390625 29.109375 \nL 57.625 0 \nL 45.90625 0 \nL 18.109375 26.703125 \nL 18.109375 0 \nL 9.078125 0 \nz\n\" id=\"DejaVuSans-107\"/>\n     </defs>\n     <g transform=\"translate(221.010938 254.849982)scale(0.1 -0.1)\">\n      <use xlink:href=\"#DejaVuSans-107\"/>\n     </g>\n    </g>\n   </g>\n   <g id=\"matplotlib.axis_2\">\n    <g id=\"ytick_1\">\n     <g id=\"line2d_6\">\n      <defs>\n       <path d=\"M 0 0 \nL -3.5 0 \n\" id=\"mec42fec5c5\" style=\"stroke:#000000;stroke-width:0.8;\"/>\n      </defs>\n      <g>\n       <use style=\"stroke:#000000;stroke-width:0.8;\" x=\"56.50625\" xlink:href=\"#mec42fec5c5\" y=\"206.417261\"/>\n      </g>\n     </g>\n     <g id=\"text_7\">\n      <!-- 0.800 -->\n      <defs>\n       <path d=\"M 10.6875 12.40625 \nL 21 12.40625 \nL 21 0 \nL 10.6875 0 \nz\n\" id=\"DejaVuSans-46\"/>\n       <path d=\"M 31.78125 34.625 \nQ 24.75 34.625 20.71875 30.859375 \nQ 16.703125 27.09375 16.703125 20.515625 \nQ 16.703125 13.921875 20.71875 10.15625 \nQ 24.75 6.390625 31.78125 6.390625 \nQ 38.8125 6.390625 42.859375 10.171875 \nQ 46.921875 13.96875 46.921875 20.515625 \nQ 46.921875 27.09375 42.890625 30.859375 \nQ 38.875 34.625 31.78125 34.625 \nz\nM 21.921875 38.8125 \nQ 15.578125 40.375 12.03125 44.71875 \nQ 8.5 49.078125 8.5 55.328125 \nQ 8.5 64.0625 14.71875 69.140625 \nQ 20.953125 74.21875 31.78125 74.21875 \nQ 42.671875 74.21875 48.875 69.140625 \nQ 55.078125 64.0625 55.078125 55.328125 \nQ 55.078125 49.078125 51.53125 44.71875 \nQ 48 40.375 41.703125 38.8125 \nQ 48.828125 37.15625 52.796875 32.3125 \nQ 56.78125 27.484375 56.78125 20.515625 \nQ 56.78125 9.90625 50.3125 4.234375 \nQ 43.84375 -1.421875 31.78125 -1.421875 \nQ 19.734375 -1.421875 13.25 4.234375 \nQ 6.78125 9.90625 6.78125 20.515625 \nQ 6.78125 27.484375 10.78125 32.3125 \nQ 14.796875 37.15625 21.921875 38.8125 \nz\nM 18.3125 54.390625 \nQ 18.3125 48.734375 21.84375 45.5625 \nQ 25.390625 42.390625 31.78125 42.390625 \nQ 38.140625 42.390625 41.71875 45.5625 \nQ 45.3125 48.734375 45.3125 54.390625 \nQ 45.3125 60.0625 41.71875 63.234375 \nQ 38.140625 66.40625 31.78125 66.40625 \nQ 25.390625 66.40625 21.84375 63.234375 \nQ 18.3125 60.0625 18.3125 54.390625 \nz\n\" id=\"DejaVuSans-56\"/>\n      </defs>\n      <g transform=\"translate(20.878125 210.21648)scale(0.1 -0.1)\">\n       <use xlink:href=\"#DejaVuSans-48\"/>\n       <use x=\"63.623047\" xlink:href=\"#DejaVuSans-46\"/>\n       <use x=\"95.410156\" xlink:href=\"#DejaVuSans-56\"/>\n       <use x=\"159.033203\" xlink:href=\"#DejaVuSans-48\"/>\n       <use x=\"222.65625\" xlink:href=\"#DejaVuSans-48\"/>\n      </g>\n     </g>\n    </g>\n    <g id=\"ytick_2\">\n     <g id=\"line2d_7\">\n      <g>\n       <use style=\"stroke:#000000;stroke-width:0.8;\" x=\"56.50625\" xlink:href=\"#mec42fec5c5\" y=\"178.500398\"/>\n      </g>\n     </g>\n     <g id=\"text_8\">\n      <!-- 0.825 -->\n      <g transform=\"translate(20.878125 182.299617)scale(0.1 -0.1)\">\n       <use xlink:href=\"#DejaVuSans-48\"/>\n       <use x=\"63.623047\" xlink:href=\"#DejaVuSans-46\"/>\n       <use x=\"95.410156\" xlink:href=\"#DejaVuSans-56\"/>\n       <use x=\"159.033203\" xlink:href=\"#DejaVuSans-50\"/>\n       <use x=\"222.65625\" xlink:href=\"#DejaVuSans-53\"/>\n      </g>\n     </g>\n    </g>\n    <g id=\"ytick_3\">\n     <g id=\"line2d_8\">\n      <g>\n       <use style=\"stroke:#000000;stroke-width:0.8;\" x=\"56.50625\" xlink:href=\"#mec42fec5c5\" y=\"150.583535\"/>\n      </g>\n     </g>\n     <g id=\"text_9\">\n      <!-- 0.850 -->\n      <g transform=\"translate(20.878125 154.382754)scale(0.1 -0.1)\">\n       <use xlink:href=\"#DejaVuSans-48\"/>\n       <use x=\"63.623047\" xlink:href=\"#DejaVuSans-46\"/>\n       <use x=\"95.410156\" xlink:href=\"#DejaVuSans-56\"/>\n       <use x=\"159.033203\" xlink:href=\"#DejaVuSans-53\"/>\n       <use x=\"222.65625\" xlink:href=\"#DejaVuSans-48\"/>\n      </g>\n     </g>\n    </g>\n    <g id=\"ytick_4\">\n     <g id=\"line2d_9\">\n      <g>\n       <use style=\"stroke:#000000;stroke-width:0.8;\" x=\"56.50625\" xlink:href=\"#mec42fec5c5\" y=\"122.666672\"/>\n      </g>\n     </g>\n     <g id=\"text_10\">\n      <!-- 0.875 -->\n      <defs>\n       <path d=\"M 8.203125 72.90625 \nL 55.078125 72.90625 \nL 55.078125 68.703125 \nL 28.609375 0 \nL 18.3125 0 \nL 43.21875 64.59375 \nL 8.203125 64.59375 \nz\n\" id=\"DejaVuSans-55\"/>\n      </defs>\n      <g transform=\"translate(20.878125 126.46589)scale(0.1 -0.1)\">\n       <use xlink:href=\"#DejaVuSans-48\"/>\n       <use x=\"63.623047\" xlink:href=\"#DejaVuSans-46\"/>\n       <use x=\"95.410156\" xlink:href=\"#DejaVuSans-56\"/>\n       <use x=\"159.033203\" xlink:href=\"#DejaVuSans-55\"/>\n       <use x=\"222.65625\" xlink:href=\"#DejaVuSans-53\"/>\n      </g>\n     </g>\n    </g>\n    <g id=\"ytick_5\">\n     <g id=\"line2d_10\">\n      <g>\n       <use style=\"stroke:#000000;stroke-width:0.8;\" x=\"56.50625\" xlink:href=\"#mec42fec5c5\" y=\"94.749808\"/>\n      </g>\n     </g>\n     <g id=\"text_11\">\n      <!-- 0.900 -->\n      <defs>\n       <path d=\"M 10.984375 1.515625 \nL 10.984375 10.5 \nQ 14.703125 8.734375 18.5 7.8125 \nQ 22.3125 6.890625 25.984375 6.890625 \nQ 35.75 6.890625 40.890625 13.453125 \nQ 46.046875 20.015625 46.78125 33.40625 \nQ 43.953125 29.203125 39.59375 26.953125 \nQ 35.25 24.703125 29.984375 24.703125 \nQ 19.046875 24.703125 12.671875 31.3125 \nQ 6.296875 37.9375 6.296875 49.421875 \nQ 6.296875 60.640625 12.9375 67.421875 \nQ 19.578125 74.21875 30.609375 74.21875 \nQ 43.265625 74.21875 49.921875 64.515625 \nQ 56.59375 54.828125 56.59375 36.375 \nQ 56.59375 19.140625 48.40625 8.859375 \nQ 40.234375 -1.421875 26.421875 -1.421875 \nQ 22.703125 -1.421875 18.890625 -0.6875 \nQ 15.09375 0.046875 10.984375 1.515625 \nz\nM 30.609375 32.421875 \nQ 37.25 32.421875 41.125 36.953125 \nQ 45.015625 41.5 45.015625 49.421875 \nQ 45.015625 57.28125 41.125 61.84375 \nQ 37.25 66.40625 30.609375 66.40625 \nQ 23.96875 66.40625 20.09375 61.84375 \nQ 16.21875 57.28125 16.21875 49.421875 \nQ 16.21875 41.5 20.09375 36.953125 \nQ 23.96875 32.421875 30.609375 32.421875 \nz\n\" id=\"DejaVuSans-57\"/>\n      </defs>\n      <g transform=\"translate(20.878125 98.549027)scale(0.1 -0.1)\">\n       <use xlink:href=\"#DejaVuSans-48\"/>\n       <use x=\"63.623047\" xlink:href=\"#DejaVuSans-46\"/>\n       <use x=\"95.410156\" xlink:href=\"#DejaVuSans-57\"/>\n       <use x=\"159.033203\" xlink:href=\"#DejaVuSans-48\"/>\n       <use x=\"222.65625\" xlink:href=\"#DejaVuSans-48\"/>\n      </g>\n     </g>\n    </g>\n    <g id=\"ytick_6\">\n     <g id=\"line2d_11\">\n      <g>\n       <use style=\"stroke:#000000;stroke-width:0.8;\" x=\"56.50625\" xlink:href=\"#mec42fec5c5\" y=\"66.832945\"/>\n      </g>\n     </g>\n     <g id=\"text_12\">\n      <!-- 0.925 -->\n      <g transform=\"translate(20.878125 70.632164)scale(0.1 -0.1)\">\n       <use xlink:href=\"#DejaVuSans-48\"/>\n       <use x=\"63.623047\" xlink:href=\"#DejaVuSans-46\"/>\n       <use x=\"95.410156\" xlink:href=\"#DejaVuSans-57\"/>\n       <use x=\"159.033203\" xlink:href=\"#DejaVuSans-50\"/>\n       <use x=\"222.65625\" xlink:href=\"#DejaVuSans-53\"/>\n      </g>\n     </g>\n    </g>\n    <g id=\"ytick_7\">\n     <g id=\"line2d_12\">\n      <g>\n       <use style=\"stroke:#000000;stroke-width:0.8;\" x=\"56.50625\" xlink:href=\"#mec42fec5c5\" y=\"38.916082\"/>\n      </g>\n     </g>\n     <g id=\"text_13\">\n      <!-- 0.950 -->\n      <g transform=\"translate(20.878125 42.715301)scale(0.1 -0.1)\">\n       <use xlink:href=\"#DejaVuSans-48\"/>\n       <use x=\"63.623047\" xlink:href=\"#DejaVuSans-46\"/>\n       <use x=\"95.410156\" xlink:href=\"#DejaVuSans-57\"/>\n       <use x=\"159.033203\" xlink:href=\"#DejaVuSans-53\"/>\n       <use x=\"222.65625\" xlink:href=\"#DejaVuSans-48\"/>\n      </g>\n     </g>\n    </g>\n    <g id=\"ytick_8\">\n     <g id=\"line2d_13\">\n      <g>\n       <use style=\"stroke:#000000;stroke-width:0.8;\" x=\"56.50625\" xlink:href=\"#mec42fec5c5\" y=\"10.999219\"/>\n      </g>\n     </g>\n     <g id=\"text_14\">\n      <!-- 0.975 -->\n      <g transform=\"translate(20.878125 14.798438)scale(0.1 -0.1)\">\n       <use xlink:href=\"#DejaVuSans-48\"/>\n       <use x=\"63.623047\" xlink:href=\"#DejaVuSans-46\"/>\n       <use x=\"95.410156\" xlink:href=\"#DejaVuSans-57\"/>\n       <use x=\"159.033203\" xlink:href=\"#DejaVuSans-55\"/>\n       <use x=\"222.65625\" xlink:href=\"#DejaVuSans-53\"/>\n      </g>\n     </g>\n    </g>\n    <g id=\"text_15\">\n     <!-- accuracy -->\n     <defs>\n      <path d=\"M 34.28125 27.484375 \nQ 23.390625 27.484375 19.1875 25 \nQ 14.984375 22.515625 14.984375 16.5 \nQ 14.984375 11.71875 18.140625 8.90625 \nQ 21.296875 6.109375 26.703125 6.109375 \nQ 34.1875 6.109375 38.703125 11.40625 \nQ 43.21875 16.703125 43.21875 25.484375 \nL 43.21875 27.484375 \nz\nM 52.203125 31.203125 \nL 52.203125 0 \nL 43.21875 0 \nL 43.21875 8.296875 \nQ 40.140625 3.328125 35.546875 0.953125 \nQ 30.953125 -1.421875 24.3125 -1.421875 \nQ 15.921875 -1.421875 10.953125 3.296875 \nQ 6 8.015625 6 15.921875 \nQ 6 25.140625 12.171875 29.828125 \nQ 18.359375 34.515625 30.609375 34.515625 \nL 43.21875 34.515625 \nL 43.21875 35.40625 \nQ 43.21875 41.609375 39.140625 45 \nQ 35.0625 48.390625 27.6875 48.390625 \nQ 23 48.390625 18.546875 47.265625 \nQ 14.109375 46.140625 10.015625 43.890625 \nL 10.015625 52.203125 \nQ 14.9375 54.109375 19.578125 55.046875 \nQ 24.21875 56 28.609375 56 \nQ 40.484375 56 46.34375 49.84375 \nQ 52.203125 43.703125 52.203125 31.203125 \nz\n\" id=\"DejaVuSans-97\"/>\n      <path d=\"M 48.78125 52.59375 \nL 48.78125 44.1875 \nQ 44.96875 46.296875 41.140625 47.34375 \nQ 37.3125 48.390625 33.40625 48.390625 \nQ 24.65625 48.390625 19.8125 42.84375 \nQ 14.984375 37.3125 14.984375 27.296875 \nQ 14.984375 17.28125 19.8125 11.734375 \nQ 24.65625 6.203125 33.40625 6.203125 \nQ 37.3125 6.203125 41.140625 7.25 \nQ 44.96875 8.296875 48.78125 10.40625 \nL 48.78125 2.09375 \nQ 45.015625 0.34375 40.984375 -0.53125 \nQ 36.96875 -1.421875 32.421875 -1.421875 \nQ 20.0625 -1.421875 12.78125 6.34375 \nQ 5.515625 14.109375 5.515625 27.296875 \nQ 5.515625 40.671875 12.859375 48.328125 \nQ 20.21875 56 33.015625 56 \nQ 37.15625 56 41.109375 55.140625 \nQ 45.0625 54.296875 48.78125 52.59375 \nz\n\" id=\"DejaVuSans-99\"/>\n      <path d=\"M 8.5 21.578125 \nL 8.5 54.6875 \nL 17.484375 54.6875 \nL 17.484375 21.921875 \nQ 17.484375 14.15625 20.5 10.265625 \nQ 23.53125 6.390625 29.59375 6.390625 \nQ 36.859375 6.390625 41.078125 11.03125 \nQ 45.3125 15.671875 45.3125 23.6875 \nL 45.3125 54.6875 \nL 54.296875 54.6875 \nL 54.296875 0 \nL 45.3125 0 \nL 45.3125 8.40625 \nQ 42.046875 3.421875 37.71875 1 \nQ 33.40625 -1.421875 27.6875 -1.421875 \nQ 18.265625 -1.421875 13.375 4.4375 \nQ 8.5 10.296875 8.5 21.578125 \nz\nM 31.109375 56 \nz\n\" id=\"DejaVuSans-117\"/>\n      <path d=\"M 41.109375 46.296875 \nQ 39.59375 47.171875 37.8125 47.578125 \nQ 36.03125 48 33.890625 48 \nQ 26.265625 48 22.1875 43.046875 \nQ 18.109375 38.09375 18.109375 28.8125 \nL 18.109375 0 \nL 9.078125 0 \nL 9.078125 54.6875 \nL 18.109375 54.6875 \nL 18.109375 46.1875 \nQ 20.953125 51.171875 25.484375 53.578125 \nQ 30.03125 56 36.53125 56 \nQ 37.453125 56 38.578125 55.875 \nQ 39.703125 55.765625 41.0625 55.515625 \nz\n\" id=\"DejaVuSans-114\"/>\n      <path d=\"M 32.171875 -5.078125 \nQ 28.375 -14.84375 24.75 -17.8125 \nQ 21.140625 -20.796875 15.09375 -20.796875 \nL 7.90625 -20.796875 \nL 7.90625 -13.28125 \nL 13.1875 -13.28125 \nQ 16.890625 -13.28125 18.9375 -11.515625 \nQ 21 -9.765625 23.484375 -3.21875 \nL 25.09375 0.875 \nL 2.984375 54.6875 \nL 12.5 54.6875 \nL 29.59375 11.921875 \nL 46.6875 54.6875 \nL 56.203125 54.6875 \nz\n\" id=\"DejaVuSans-121\"/>\n     </defs>\n     <g transform=\"translate(14.798437 140.412794)rotate(-90)scale(0.1 -0.1)\">\n      <use xlink:href=\"#DejaVuSans-97\"/>\n      <use x=\"61.279297\" xlink:href=\"#DejaVuSans-99\"/>\n      <use x=\"116.259766\" xlink:href=\"#DejaVuSans-99\"/>\n      <use x=\"171.240234\" xlink:href=\"#DejaVuSans-117\"/>\n      <use x=\"234.619141\" xlink:href=\"#DejaVuSans-114\"/>\n      <use x=\"275.732422\" xlink:href=\"#DejaVuSans-97\"/>\n      <use x=\"337.011719\" xlink:href=\"#DejaVuSans-99\"/>\n      <use x=\"391.992188\" xlink:href=\"#DejaVuSans-121\"/>\n     </g>\n    </g>\n   </g>\n   <g id=\"patch_3\">\n    <path d=\"M 56.50625 226.573419 \nL 56.50625 9.133419 \n\" style=\"fill:none;stroke:#000000;stroke-linecap:square;stroke-linejoin:miter;stroke-width:0.8;\"/>\n   </g>\n   <g id=\"patch_4\">\n    <path d=\"M 391.30625 226.573419 \nL 391.30625 9.133419 \n\" style=\"fill:none;stroke:#000000;stroke-linecap:square;stroke-linejoin:miter;stroke-width:0.8;\"/>\n   </g>\n   <g id=\"patch_5\">\n    <path d=\"M 56.50625 226.573419 \nL 391.30625 226.573419 \n\" style=\"fill:none;stroke:#000000;stroke-linecap:square;stroke-linejoin:miter;stroke-width:0.8;\"/>\n   </g>\n   <g id=\"patch_6\">\n    <path d=\"M 56.50625 9.133419 \nL 391.30625 9.133419 \n\" style=\"fill:none;stroke:#000000;stroke-linecap:square;stroke-linejoin:miter;stroke-width:0.8;\"/>\n   </g>\n  </g>\n </g>\n <defs>\n  <clipPath id=\"p65d31f6d29\">\n   <rect height=\"217.44\" width=\"334.8\" x=\"56.50625\" y=\"9.133419\"/>\n  </clipPath>\n </defs>\n</svg>\n",
      "image/png": "[encoded data removed]"
     },
     "metadata": {
      "needs_background": "light"
     }
    }
   ],
   "source": [
    "\n",
    "k_range = range(1, 20)\n",
    "scores = []\n",
    "for k in k_range:\n",
    "    knn = KNeighborsClassifier(n_neighbors = k)\n",
    "    knn.fit(X_train, y_train)\n",
    "    scores.append(knn.score(X_test, y_test))\n",
    "plt.figure()\n",
    "plt.xlabel('k')\n",
    "plt.ylabel('accuracy')\n",
    "plt.scatter(k_range, scores)\n",
    "plt.xticks([0,5,10,15,20])\n"
   ]
  },
  {
   "cell_type": "code",
   "execution_count": 11,
   "metadata": {},
   "outputs": [
    {
     "output_type": "stream",
     "name": "stdout",
     "text": "Accuracy of SVM classifier on training set: 0.98\nAccuracy of SVM classifier on test set: 0.93\n[[ 8  0  0  0]\n [ 0  1  2  2]\n [ 0  0 31  2]\n [ 0  0  0 41]]\n              precision    recall  f1-score   support\n\n         0.0       1.00      1.00      1.00         8\n         1.0       1.00      0.20      0.33         5\n         2.0       0.94      0.94      0.94        33\n         3.0       0.91      1.00      0.95        41\n\n    accuracy                           0.93        87\n   macro avg       0.96      0.78      0.81        87\nweighted avg       0.94      0.93      0.92        87\n\n"
    }
   ],
   "source": [
    "#Support Vector Machine\n",
    "\n",
    "svm = SVC()\n",
    "svm.fit(X_train, y_train)\n",
    "print('Accuracy of SVM classifier on training set: {:.2f}'.format(svm.score(X_train, y_train)))\n",
    "print('Accuracy of SVM classifier on test set: {:.2f}'.format(svm.score(X_test, y_test)))\n",
    "\n",
    "pred = svm.predict(X_test)\n",
    "print(confusion_matrix(y_test, pred))\n",
    "print(classification_report(y_test, pred))"
   ]
  },
  {
   "cell_type": "code",
   "execution_count": 12,
   "metadata": {},
   "outputs": [
    {
     "output_type": "stream",
     "name": "stdout",
     "text": "Accuracy of GNB classifier on training set: 0.95\nAccuracy of GNB classifier on test set: 0.93\n[[ 8  0  0  0]\n [ 0  5  0  0]\n [ 0  0 27  6]\n [ 0  0  0 41]]\n              precision    recall  f1-score   support\n\n         0.0       1.00      1.00      1.00         8\n         1.0       1.00      1.00      1.00         5\n         2.0       1.00      0.82      0.90        33\n         3.0       0.87      1.00      0.93        41\n\n    accuracy                           0.93        87\n   macro avg       0.97      0.95      0.96        87\nweighted avg       0.94      0.93      0.93        87\n\n"
    }
   ],
   "source": [
    "#Naive Baye's\n",
    "\n",
    "gnb = GaussianNB()\n",
    "gnb.fit(X_train, y_train)\n",
    "print('Accuracy of GNB classifier on training set: {:.2f}'.format(gnb.score(X_train, y_train)))\n",
    "print('Accuracy of GNB classifier on test set: {:.2f}'.format(gnb.score(X_test, y_test)))\n",
    "\n",
    "pred = gnb.predict(X_test)\n",
    "print(confusion_matrix(y_test, pred))\n",
    "print(classification_report(y_test, pred))"
   ]
  },
  {
   "cell_type": "code",
   "execution_count": null,
   "metadata": {},
   "outputs": [],
   "source": []
  },
  {
   "cell_type": "code",
   "execution_count": null,
   "metadata": {},
   "outputs": [],
   "source": []
  }
 ]
}